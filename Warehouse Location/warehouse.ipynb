{
 "cells": [
  {
   "cell_type": "code",
   "id": "initial_id",
   "metadata": {
    "collapsed": true,
    "ExecuteTime": {
     "end_time": "2024-10-11T04:56:27.078938Z",
     "start_time": "2024-10-11T04:56:26.708033Z"
    }
   },
   "source": [
    "import numpy as np\n",
    "from scipy.optimize import dual_annealing\n",
    "\n",
    "# Define the objective function for warehouse 1\n",
    "def objective_warehouse1(x):\n",
    "    x1, y1 = x\n",
    "    return (np.sqrt((x1-5)**2 + (y1-10)**2) * 200 +\n",
    "            np.sqrt((x1-10)**2 + (y1-5)**2) * 150 +\n",
    "            np.sqrt((x1-0)**2 + (y1-12)**2) * 200 +\n",
    "            np.sqrt((x1-12)**2 + (y1-0)**2) * 300) * 500 * 10 + 25000000\n",
    "\n",
    "# Define the objective function for warehouse 2\n",
    "def objective_warehouse2(x):\n",
    "    x2, y2 = x\n",
    "    return (np.sqrt((x2-5)**2 + (y2-10)**2) * 200 +\n",
    "            np.sqrt((x2-10)**2 + (y2-5)**2) * 150 +\n",
    "            np.sqrt((x2-0)**2 + (y2-12)**2) * 200 +\n",
    "            np.sqrt((x2-12)**2 + (y2-0)**2) * 300) * 500 * 10 + 40000000\n",
    "\n",
    "# Combine the objective functions\n",
    "def combined_objective(x):\n",
    "    x1, y1, x2, y2 = x\n",
    "    return objective_warehouse1((x1, y1)) + objective_warehouse2((x2, y2))\n",
    "\n",
    "# Define the bounds for the variables\n",
    "bounds = [(-8, 2), (-5, 3), (7, 12), (-3, 0)]\n",
    "\n",
    "# Use dual_annealing to find the global minimum\n",
    "result = dual_annealing(combined_objective, bounds)\n",
    "\n",
    "# Print the results\n",
    "print(\"Optimal solution:\", result.x)\n",
    "print(\"Minimum cost:\", result.fun)"
   ],
   "outputs": [
    {
     "name": "stdout",
     "output_type": "stream",
     "text": [
      "Optimal solution: [ 2.          3.         11.71795548  0.        ]\n",
      "Minimum cost: 136888024.4294614\n"
     ]
    }
   ],
   "execution_count": 1
  }
 ],
 "metadata": {
  "kernelspec": {
   "display_name": "Python 3",
   "language": "python",
   "name": "python3"
  },
  "language_info": {
   "codemirror_mode": {
    "name": "ipython",
    "version": 2
   },
   "file_extension": ".py",
   "mimetype": "text/x-python",
   "name": "python",
   "nbconvert_exporter": "python",
   "pygments_lexer": "ipython2",
   "version": "2.7.6"
  }
 },
 "nbformat": 4,
 "nbformat_minor": 5
}
